{
 "cells": [
  {
   "cell_type": "markdown",
   "metadata": {},
   "source": [
    "# Numpy包是python进行数据分析中不必可少的工具，因此一定要熟悉它，它里面有很多内建函数（实现了很多功能）"
   ]
  },
  {
   "cell_type": "markdown",
   "metadata": {},
   "source": [
    "中文网站：https://www.numpy.org.cn/"
   ]
  },
  {
   "cell_type": "code",
   "execution_count": 8,
   "metadata": {},
   "outputs": [
    {
     "name": "stdout",
     "output_type": "stream",
     "text": [
      "[[ 6.69331732 -0.07344545]\n",
      " [-0.07344545  7.12411512]]\n",
      "------------------------------\n",
      "6.686624000000001\n",
      "7.116991000000001\n",
      "------------------------------\n",
      "-0.07337200000000013\n",
      "------------------------------\n",
      "[[ 1.         -0.01063601]\n",
      " [-0.01063601  1.        ]]\n"
     ]
    }
   ],
   "source": [
    "#导入numpy包，并为它建立别名\n",
    "import numpy as np\n",
    "\n",
    "# 随机生成两个样本，0到9（不包括9）的随机整数1000个\n",
    "x = np.random.randint(0, 9, 1000)\n",
    "y = np.random.randint(0, 9, 1000)\n",
    "\n",
    "打出x\n",
    "# 计算平均值\n",
    "mx = x.mean()\n",
    "my = y.mean()\n",
    "\n",
    "# 计算标准差\n",
    "stdx = x.std()\n",
    "stdy = y.std()\n",
    "\n",
    "# 计算协方差矩阵\n",
    "covxy = np.cov(x, y)\n",
    "print(covxy)\n",
    "print(\"------------------------------\")\n",
    "\n",
    "# 手动计算\n",
    "# covx等于covxy[0, 0], covy等于covxy[1, 1]\n",
    "# 我们这里的计算结果应该是约等于，因为我们在计算的时候是使用的总体方差(总体方差和样本方差是稍微有点区别的)\n",
    "covx = np.mean((x - x.mean()) ** 2) \n",
    "covy = np.mean((y - y.mean()) ** 2) \n",
    "print(covx)\n",
    "print(covy)\n",
    "print(\"------------------------------\")\n",
    "\n",
    "# 这里计算的covxy等于上面的covxy[0, 1]和covxy[1, 0]，三者相等\n",
    "covxy = np.mean((x - x.mean()) * (y - y.mean()))\n",
    "print(covxy)\n",
    "print(\"------------------------------\")\n",
    "\n",
    "# 下面计算的是相关系数矩阵(和上面的协方差矩阵是类似的)\n",
    "coefxy = np.corrcoef(x, y)\n",
    "print(coefxy)"
   ]
  },
  {
   "cell_type": "code",
   "execution_count": null,
   "metadata": {},
   "outputs": [],
   "source": []
  }
 ],
 "metadata": {
  "kernelspec": {
   "display_name": "Python 3",
   "language": "python",
   "name": "python3"
  },
  "language_info": {
   "codemirror_mode": {
    "name": "ipython",
    "version": 3
   },
   "file_extension": ".py",
   "mimetype": "text/x-python",
   "name": "python",
   "nbconvert_exporter": "python",
   "pygments_lexer": "ipython3",
   "version": "3.5.6"
  }
 },
 "nbformat": 4,
 "nbformat_minor": 2
}
