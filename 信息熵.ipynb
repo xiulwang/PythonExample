{
 "cells": [
  {
   "cell_type": "code",
   "execution_count": 1,
   "metadata": {},
   "outputs": [],
   "source": [
    "from math import log"
   ]
  },
  {
   "cell_type": "code",
   "execution_count": 6,
   "metadata": {},
   "outputs": [],
   "source": [
    "def createDataSet():\n",
    "    #建议一个简单的数据集，最后一列为label,前两列为特征\n",
    "    dataSet = [[1,1,'yes'],\n",
    "              [1,1,'yes'],\n",
    "              [1,0,'no'],\n",
    "              [0,1,'no'],\n",
    "              [0,1,'no']]\n",
    "    return dataSet"
   ]
  },
  {
   "cell_type": "code",
   "execution_count": 5,
   "metadata": {},
   "outputs": [],
   "source": [
    "def calcShannonEnt(dataSet):\n",
    "    # 样本数\n",
    "    numEntries = len(dataSet) \n",
    "    # 建立一个字典dict, 计算该数据集每个类别的频数\n",
    "    labelCounts = {} \n",
    "    # 对每一行样本，例如[1,1,'yes']\n",
    "    for featVec in dataSet:\n",
    "        # 该样本的标签,-1代表最后一个元素\n",
    "        currentLabel = featVec[-1] \n",
    "        # 如果该样本的标本不在labelCounts中，则先建立一个key,并赋值为0（代表该类别的样本个数目前为0）\n",
    "        if currentLabel not in labelCounts.keys(): \n",
    "            labelCounts[currentLabel] = 0\n",
    "        # 更新该类别的样本个数\n",
    "        labelCounts[currentLabel] += 1 \n",
    "    # 信息熵的值\n",
    "    shannonEnt = 0.0\n",
    "    # key即为类别，这里就是“yes\"和\"no\"\n",
    "    for key in labelCounts:\n",
    "        # 计算p(xi)\n",
    "        prob = float(labelCounts[key])/numEntries \n",
    "        # log base 2\n",
    "        shannonEnt -= prob * log(prob, 2)  \n",
    "    return shannonEnt"
   ]
  },
  {
   "cell_type": "code",
   "execution_count": 7,
   "metadata": {},
   "outputs": [],
   "source": [
    "dataSet = createDataSet()"
   ]
  },
  {
   "cell_type": "code",
   "execution_count": 8,
   "metadata": {},
   "outputs": [
    {
     "data": {
      "text/plain": [
       "0.9709505944546686"
      ]
     },
     "execution_count": 8,
     "metadata": {},
     "output_type": "execute_result"
    }
   ],
   "source": [
    "calcShannonEnt(dataSet)"
   ]
  },
  {
   "cell_type": "code",
   "execution_count": null,
   "metadata": {},
   "outputs": [],
   "source": []
  }
 ],
 "metadata": {
  "kernelspec": {
   "display_name": "Python 3",
   "language": "python",
   "name": "python3"
  },
  "language_info": {
   "codemirror_mode": {
    "name": "ipython",
    "version": 3
   },
   "file_extension": ".py",
   "mimetype": "text/x-python",
   "name": "python",
   "nbconvert_exporter": "python",
   "pygments_lexer": "ipython3",
   "version": "3.5.6"
  }
 },
 "nbformat": 4,
 "nbformat_minor": 2
}
